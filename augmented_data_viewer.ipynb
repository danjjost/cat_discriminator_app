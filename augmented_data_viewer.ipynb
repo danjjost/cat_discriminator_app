{
 "cells": [
  {
   "cell_type": "markdown",
   "metadata": {},
   "source": [
    "### 📝 Imports"
   ]
  },
  {
   "cell_type": "code",
   "execution_count": 1,
   "metadata": {},
   "outputs": [],
   "source": [
    "import torch\n",
    "from torch.utils.data import DataLoader\n",
    "\n",
    "import torchvision.transforms as transforms\n",
    "import torchvision.utils as vutils\n",
    "import matplotlib.pyplot as plt\n",
    "import numpy as np\n",
    "import os\n",
    "\n",
    "from cats_dataset import CatsDataset\n",
    "from tools.augmentation.data_augmenter import DataAugmenter\n",
    "\n",
    "from PIL import Image\n",
    "\n"
   ]
  },
  {
   "cell_type": "markdown",
   "metadata": {},
   "source": [
    "### 🔧 Config"
   ]
  },
  {
   "cell_type": "code",
   "execution_count": 2,
   "metadata": {},
   "outputs": [],
   "source": [
    "bathroom_cat_dir_path = 'data/bathroom-cat-128x128/'\n",
    "captain_dir_path = 'data/captain-128x128/'\n",
    "control_dir_path= 'data/control-128x128/'\n",
    "\n",
    "# Directory to save augmented images\n",
    "augmented_images_dir = 'data/augmented_images'\n",
    "os.makedirs(augmented_images_dir, exist_ok=True)"
   ]
  },
  {
   "cell_type": "markdown",
   "metadata": {},
   "source": [
    "### 🌐 Create Transforms"
   ]
  },
  {
   "cell_type": "code",
   "execution_count": null,
   "metadata": {},
   "outputs": [],
   "source": [
    "transform = transforms.Compose([\n",
    "    DataAugmenter(),\n",
    "    transforms.ToTensor(),\n",
    "    transforms.Normalize((0.5, 0.5, 0.5), (0.5, 0.5, 0.5))\n",
    "])"
   ]
  },
  {
   "cell_type": "markdown",
   "metadata": {},
   "source": [
    "### 🚦 Load Dataset"
   ]
  },
  {
   "cell_type": "code",
   "execution_count": 4,
   "metadata": {},
   "outputs": [],
   "source": [
    "dataset = CatsDataset(\n",
    "    bathroom_cat_dir=bathroom_cat_dir_path, \n",
    "    captain_dir=captain_dir_path, \n",
    "    control_dir=control_dir_path, \n",
    "    transform=transform\n",
    ")"
   ]
  },
  {
   "cell_type": "markdown",
   "metadata": {},
   "source": [
    "### 🖼 Visualize and Save Augmented Images"
   ]
  },
  {
   "cell_type": "code",
   "execution_count": null,
   "metadata": {},
   "outputs": [],
   "source": [
    "sample_loader = DataLoader(dataset, batch_size=8, shuffle=True)\n",
    "data_iter = iter(sample_loader)\n",
    "images, labels = next(data_iter)\n",
    "\n",
    "def save_augmented_images(images, directory):\n",
    "    for idx in range(images.size(0)):\n",
    "        img = images[idx]\n",
    "        # Unnormalize\n",
    "        img = img * 0.5 + 0.5\n",
    "        # Convert to NumPy array\n",
    "        np_img = img.numpy()\n",
    "        # Transpose to (H, W, C)\n",
    "        np_img = np.transpose(np_img, (1, 2, 0))\n",
    "        # Convert to PIL Image\n",
    "        pil_img = Image.fromarray((np_img * 255).astype(np.uint8))\n",
    "        # Save image\n",
    "        pil_img.save(os.path.join(directory, f'augmented_image_{idx}.png'))\n",
    "\n",
    "save_augmented_images(images, augmented_images_dir)\n",
    "print(f\"Augmented images have been saved to '{augmented_images_dir}' directory.\")\n",
    "\n",
    "def imshow(img):\n",
    "    img = img * 0.5 + 0.5\n",
    "    npimg = img.numpy()\n",
    "    plt.imshow(np.transpose(npimg, (1, 2, 0)))\n",
    "    plt.axis('off')\n",
    "    plt.show()\n",
    "\n",
    "for i in range(images.size(0)):\n",
    "    imshow(images[i])\n",
    "\n"
   ]
  }
 ],
 "metadata": {
  "kernelspec": {
   "display_name": "Python 3",
   "language": "python",
   "name": "python3"
  },
  "language_info": {
   "codemirror_mode": {
    "name": "ipython",
    "version": 3
   },
   "file_extension": ".py",
   "mimetype": "text/x-python",
   "name": "python",
   "nbconvert_exporter": "python",
   "pygments_lexer": "ipython3",
   "version": "3.12.7"
  }
 },
 "nbformat": 4,
 "nbformat_minor": 2
}
