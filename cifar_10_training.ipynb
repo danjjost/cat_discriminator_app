{
 "cells": [
  {
   "cell_type": "markdown",
   "metadata": {},
   "source": [
    "### 📝 Imports"
   ]
  },
  {
   "cell_type": "code",
   "execution_count": 15,
   "metadata": {},
   "outputs": [],
   "source": [
    "import torch\n",
    "import torch.optim as optim\n",
    "\n",
    "import torchvision\n",
    "import torchvision.transforms as transforms\n",
    "\n",
    "import os\n",
    "\n",
    "from PIL import Image\n",
    "\n",
    "from neural_net import NeuralNet\n"
   ]
  },
  {
   "cell_type": "markdown",
   "metadata": {},
   "source": [
    "### 🔧 Config"
   ]
  },
  {
   "cell_type": "code",
   "execution_count": 16,
   "metadata": {},
   "outputs": [],
   "source": [
    "number_of_epochs = 30\n",
    "saved_model_path = \"trained_networks/cifar_10.pth\""
   ]
  },
  {
   "cell_type": "markdown",
   "metadata": {},
   "source": [
    "### 🌐 Create Transforms"
   ]
  },
  {
   "cell_type": "code",
   "execution_count": 17,
   "metadata": {},
   "outputs": [],
   "source": [
    "transform = transforms.Compose([\n",
    "    transforms.ToTensor(),\n",
    "    transforms.Normalize(((0.5), (0.5), (0.5)), ((0.5), (0.5), (0.5))),\n",
    "])"
   ]
  },
  {
   "cell_type": "markdown",
   "metadata": {},
   "source": [
    "### 🚦 Load Training Data"
   ]
  },
  {
   "cell_type": "code",
   "execution_count": 18,
   "metadata": {},
   "outputs": [
    {
     "name": "stdout",
     "output_type": "stream",
     "text": [
      "Files already downloaded and verified\n"
     ]
    }
   ],
   "source": [
    "train_data = torchvision.datasets.CIFAR10(root='./data', train=True, download=True, transform=transform)\n",
    "train_loader = torch.utils.data.DataLoader(train_data, batch_size=32, shuffle=True, num_workers=2)"
   ]
  },
  {
   "cell_type": "markdown",
   "metadata": {},
   "source": [
    "### 🥾 Initialize the Neural Net"
   ]
  },
  {
   "cell_type": "code",
   "execution_count": 19,
   "metadata": {},
   "outputs": [
    {
     "name": "stderr",
     "output_type": "stream",
     "text": [
      "C:\\Users\\Dan\\AppData\\Local\\Temp\\ipykernel_23756\\2164500023.py:4: FutureWarning: You are using `torch.load` with `weights_only=False` (the current default value), which uses the default pickle module implicitly. It is possible to construct malicious pickle data which will execute arbitrary code during unpickling (See https://github.com/pytorch/pytorch/blob/main/SECURITY.md#untrusted-models for more details). In a future release, the default value for `weights_only` will be flipped to `True`. This limits the functions that could be executed during unpickling. Arbitrary objects will no longer be allowed to be loaded via this mode unless they are explicitly allowlisted by the user via `torch.serialization.add_safe_globals`. We recommend you start setting `weights_only=True` for any use case where you don't have full control of the loaded file. Please open an issue on GitHub for any issues related to this experimental feature.\n",
      "  net.load_state_dict(torch.load(saved_model_path))\n"
     ]
    }
   ],
   "source": [
    "net = NeuralNet()\n",
    "\n",
    "if os.path.isfile(saved_model_path):\n",
    "    net.load_state_dict(torch.load(saved_model_path))\n",
    "\n",
    "net.cuda()\n",
    "loss_function = torch.nn.CrossEntropyLoss()\n",
    "optimizer = optim.SGD(net.parameters(), lr=0.001)"
   ]
  },
  {
   "cell_type": "markdown",
   "metadata": {},
   "source": [
    "### 🏃‍♂️‍➡️ Train"
   ]
  },
  {
   "cell_type": "code",
   "execution_count": 20,
   "metadata": {},
   "outputs": [
    {
     "name": "stdout",
     "output_type": "stream",
     "text": [
      "Training epoch 0\n",
      "Loss: 1.3451\n",
      "Training epoch 1\n",
      "Loss: 1.3345\n",
      "Training epoch 2\n",
      "Loss: 1.3233\n",
      "Training epoch 3\n",
      "Loss: 1.3135\n",
      "Training epoch 4\n",
      "Loss: 1.3024\n",
      "Training epoch 5\n",
      "Loss: 1.2919\n",
      "Training epoch 6\n",
      "Loss: 1.2824\n",
      "Training epoch 7\n",
      "Loss: 1.2722\n",
      "Training epoch 8\n",
      "Loss: 1.2616\n",
      "Training epoch 9\n",
      "Loss: 1.2502\n",
      "Training epoch 10\n",
      "Loss: 1.2415\n",
      "Training epoch 11\n",
      "Loss: 1.2311\n",
      "Training epoch 12\n",
      "Loss: 1.2208\n",
      "Training epoch 13\n",
      "Loss: 1.2114\n",
      "Training epoch 14\n",
      "Loss: 1.2018\n",
      "Training epoch 15\n",
      "Loss: 1.1915\n",
      "Training epoch 16\n",
      "Loss: 1.1820\n",
      "Training epoch 17\n",
      "Loss: 1.1725\n",
      "Training epoch 18\n",
      "Loss: 1.1639\n",
      "Training epoch 19\n",
      "Loss: 1.1557\n",
      "Training epoch 20\n",
      "Loss: 1.1451\n",
      "Training epoch 21\n",
      "Loss: 1.1376\n",
      "Training epoch 22\n",
      "Loss: 1.1290\n",
      "Training epoch 23\n",
      "Loss: 1.1199\n",
      "Training epoch 24\n",
      "Loss: 1.1114\n",
      "Training epoch 25\n",
      "Loss: 1.1026\n",
      "Training epoch 26\n",
      "Loss: 1.0955\n",
      "Training epoch 27\n",
      "Loss: 1.0858\n",
      "Training epoch 28\n",
      "Loss: 1.0788\n",
      "Training epoch 29\n",
      "Loss: 1.0700\n"
     ]
    }
   ],
   "source": [
    "for epoch in range(number_of_epochs):\n",
    "    print(f'Training epoch {epoch}')\n",
    "    \n",
    "    running_loss = 0.0\n",
    "    for i, data in enumerate(train_loader):\n",
    "        inputs, labels = data\n",
    "        inputs, labels = inputs.to('cuda'), labels.to('cuda')\n",
    "        optimizer.zero_grad()\n",
    "        \n",
    "        outputs = net(inputs)\n",
    "        \n",
    "        loss = loss_function(outputs, labels)\n",
    "        loss.backward()\n",
    "        \n",
    "        optimizer.step()\n",
    "        \n",
    "        running_loss += loss.item()\n",
    "        \n",
    "    print (f'Loss: {running_loss / len(train_loader):.4f}')"
   ]
  },
  {
   "cell_type": "markdown",
   "metadata": {},
   "source": [
    "### 💾 Save Progress"
   ]
  },
  {
   "cell_type": "code",
   "execution_count": 21,
   "metadata": {},
   "outputs": [],
   "source": [
    "torch.save(net.state_dict(), saved_model_path)"
   ]
  }
 ],
 "metadata": {
  "kernelspec": {
   "display_name": "Python 3",
   "language": "python",
   "name": "python3"
  },
  "language_info": {
   "codemirror_mode": {
    "name": "ipython",
    "version": 3
   },
   "file_extension": ".py",
   "mimetype": "text/x-python",
   "name": "python",
   "nbconvert_exporter": "python",
   "pygments_lexer": "ipython3",
   "version": "3.10.5"
  }
 },
 "nbformat": 4,
 "nbformat_minor": 2
}
