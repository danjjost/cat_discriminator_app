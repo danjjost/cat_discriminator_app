{
 "cells": [
  {
   "cell_type": "markdown",
   "metadata": {},
   "source": [
    "# 📷 Uploaded Photo Stager\n",
    "\n",
    "This script downloads photos from the Azure Blob Storage Containers to their corresponding /staging folders for manual review."
   ]
  },
  {
   "cell_type": "markdown",
   "metadata": {},
   "source": [
    "### 🔧 Config"
   ]
  },
  {
   "cell_type": "code",
   "execution_count": 1,
   "metadata": {},
   "outputs": [],
   "source": [
    "classes = ['control', 'captain', 'bathroom-cat'] # The class / container names\n",
    "output_dir = '../data/staging'\n",
    "clear_blob_storage = True"
   ]
  },
  {
   "cell_type": "markdown",
   "metadata": {},
   "source": [
    "### 🌳 Load Env Variables"
   ]
  },
  {
   "cell_type": "code",
   "execution_count": 2,
   "metadata": {},
   "outputs": [],
   "source": [
    "import os\n",
    "from dotenv import load_dotenv\n",
    "load_dotenv(dotenv_path=\"../.env\")\n",
    "\n",
    "blob_storage_connection_string = os.getenv(\"BLOB_STORAGE_CONNECTION_STRING\")\n",
    "\n",
    "if not blob_storage_connection_string:\n",
    "    raise ValueError(\"BLOB_STORAGE_CONNECTION_STRING environment variable not set. Please check your .env file.\")"
   ]
  },
  {
   "cell_type": "markdown",
   "metadata": {},
   "source": [
    "### ⬇️ Download"
   ]
  },
  {
   "cell_type": "code",
   "execution_count": null,
   "metadata": {},
   "outputs": [],
   "source": [
    "from helpers.blob_storage_downloader import BlobStorageDownloader\n",
    "\n",
    "blob_storage_downloader = BlobStorageDownloader(connection_string=blob_storage_connection_string)\n",
    "\n",
    "for class_name in classes:\n",
    "    blobs = blob_storage_downloader.download_to_directory(class_name, class_output_dir=os.path.join(output_dir, class_name))\n",
    "\n",
    "print(\"All blobs have been downloaded successfully.\")"
   ]
  },
  {
   "cell_type": "markdown",
   "metadata": {},
   "source": [
    "### 🗑️ Clear Blob Storage"
   ]
  },
  {
   "cell_type": "code",
   "execution_count": null,
   "metadata": {},
   "outputs": [],
   "source": [
    "if clear_blob_storage:\n",
    "    for class_name in classes:\n",
    "        blob_storage_downloader.clear_all_blobs(class_name)\n",
    "    print(\"All blobs have been deleted from the storage account.\")"
   ]
  }
 ],
 "metadata": {
  "kernelspec": {
   "display_name": "Python 3",
   "language": "python",
   "name": "python3"
  },
  "language_info": {
   "codemirror_mode": {
    "name": "ipython",
    "version": 3
   },
   "file_extension": ".py",
   "mimetype": "text/x-python",
   "name": "python",
   "nbconvert_exporter": "python",
   "pygments_lexer": "ipython3",
   "version": "3.12.7"
  }
 },
 "nbformat": 4,
 "nbformat_minor": 2
}
