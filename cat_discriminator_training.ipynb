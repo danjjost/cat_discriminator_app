{
 "cells": [
  {
   "cell_type": "markdown",
   "metadata": {},
   "source": [
    "# 🐈 Cat Discriminator"
   ]
  },
  {
   "cell_type": "markdown",
   "metadata": {},
   "source": [
    "### 📝 Imports"
   ]
  },
  {
   "cell_type": "code",
   "execution_count": 15,
   "metadata": {},
   "outputs": [],
   "source": [
    "import torch\n",
    "import torch.optim as optim\n",
    "from torch.utils.data import DataLoader\n",
    "\n",
    "import albumentations as A\n",
    "\n",
    "import torchvision\n",
    "import torchvision.transforms as transforms\n",
    "\n",
    "import os\n",
    "\n",
    "from PIL import Image\n",
    "\n",
    "from cat_discriminator_neural_net import CatDiscriminatorNeuralNet\n",
    "\n",
    "from tools.augmentation.data_augmenter import DataAugmenter\n"
   ]
  },
  {
   "cell_type": "markdown",
   "metadata": {},
   "source": [
    "### 🔧 Config"
   ]
  },
  {
   "cell_type": "code",
   "execution_count": 16,
   "metadata": {},
   "outputs": [],
   "source": [
    "learning_rate = 0.01\n",
    "epochs_between_saves = 5\n",
    "total_epochs = 100\n",
    "\n",
    "saved_model_path = \"trained_networks/cat_discriminator_512x512.pth\"\n",
    "bathroom_cat_dir_path = 'data/bathroom-cat-512x512/'\n",
    "captain_dir_path = 'data/captain-512x512/'\n",
    "control_dir_path= 'data/control-512x512/'"
   ]
  },
  {
   "cell_type": "markdown",
   "metadata": {},
   "source": [
    "### 🌐 Create Transforms"
   ]
  },
  {
   "cell_type": "code",
   "execution_count": 17,
   "metadata": {},
   "outputs": [
    {
     "name": "stdout",
     "output_type": "stream",
     "text": [
      "DataAugmenter initialized\n"
     ]
    }
   ],
   "source": [
    "transforms = transforms.Compose([\n",
    "    DataAugmenter(),\n",
    "    transforms.ToTensor(),\n",
    "    transforms.Normalize((0.5, 0.5, 0.5), (0.5, 0.5, 0.5))\n",
    "])"
   ]
  },
  {
   "cell_type": "markdown",
   "metadata": {},
   "source": [
    "### 🚦 Load Training Data"
   ]
  },
  {
   "cell_type": "code",
   "execution_count": 18,
   "metadata": {},
   "outputs": [],
   "source": [
    "from cats_dataset import CatsDataset\n",
    "\n",
    "\n",
    "dataset = CatsDataset(bathroom_cat_dir=bathroom_cat_dir_path, captain_dir=captain_dir_path, control_dir=control_dir_path, transform=transforms)\n",
    "dataloader = DataLoader(dataset, batch_size=32, shuffle=True, num_workers=2)"
   ]
  },
  {
   "cell_type": "markdown",
   "metadata": {},
   "source": [
    "### 🥾 Initialize the Neural Net"
   ]
  },
  {
   "cell_type": "code",
   "execution_count": 19,
   "metadata": {},
   "outputs": [
    {
     "name": "stderr",
     "output_type": "stream",
     "text": [
      "C:\\Users\\Dan\\AppData\\Local\\Temp\\ipykernel_6592\\412691464.py:4: FutureWarning: You are using `torch.load` with `weights_only=False` (the current default value), which uses the default pickle module implicitly. It is possible to construct malicious pickle data which will execute arbitrary code during unpickling (See https://github.com/pytorch/pytorch/blob/main/SECURITY.md#untrusted-models for more details). In a future release, the default value for `weights_only` will be flipped to `True`. This limits the functions that could be executed during unpickling. Arbitrary objects will no longer be allowed to be loaded via this mode unless they are explicitly allowlisted by the user via `torch.serialization.add_safe_globals`. We recommend you start setting `weights_only=True` for any use case where you don't have full control of the loaded file. Please open an issue on GitHub for any issues related to this experimental feature.\n",
      "  net.load_state_dict(torch.load(saved_model_path))\n"
     ]
    }
   ],
   "source": [
    "net = CatDiscriminatorNeuralNet()\n",
    "\n",
    "if os.path.isfile(saved_model_path):\n",
    "    net.load_state_dict(torch.load(saved_model_path))\n",
    "\n",
    "net.cuda()\n",
    "loss_function = torch.nn.CrossEntropyLoss()\n",
    "optimizer = optim.SGD(net.parameters(), lr=learning_rate)"
   ]
  },
  {
   "cell_type": "markdown",
   "metadata": {},
   "source": [
    "### 🏃‍♂️‍➡️ Train"
   ]
  },
  {
   "cell_type": "code",
   "execution_count": 20,
   "metadata": {},
   "outputs": [
    {
     "name": "stdout",
     "output_type": "stream",
     "text": [
      "Training epoch 1\n",
      "Loss: 0.1071\n",
      "Training epoch 2\n",
      "Loss: 0.0979\n",
      "Training epoch 3\n",
      "Loss: 0.1097\n",
      "Training epoch 4\n",
      "Loss: 0.0967\n",
      "Training epoch 5\n",
      "Saving model...\n",
      "Loss: 0.1001\n",
      "Training epoch 6\n",
      "Loss: 0.1083\n",
      "Training epoch 7\n",
      "Loss: 0.0972\n",
      "Training epoch 8\n",
      "Loss: 0.0903\n",
      "Training epoch 9\n",
      "Loss: 0.0847\n",
      "Training epoch 10\n",
      "Saving model...\n",
      "Loss: 0.0998\n",
      "Training epoch 11\n",
      "Loss: 0.1060\n",
      "Training epoch 12\n",
      "Loss: 0.1084\n",
      "Training epoch 13\n",
      "Loss: 0.0966\n",
      "Training epoch 14\n",
      "Loss: 0.1026\n",
      "Training epoch 15\n",
      "Saving model...\n",
      "Loss: 0.0995\n",
      "Training epoch 16\n",
      "Loss: 0.1051\n",
      "Training epoch 17\n",
      "Loss: 0.0847\n",
      "Training epoch 18\n",
      "Loss: 0.1037\n",
      "Training epoch 19\n",
      "Loss: 0.1067\n",
      "Training epoch 20\n",
      "Saving model...\n",
      "Loss: 0.0929\n",
      "Training epoch 21\n",
      "Loss: 0.0823\n",
      "Training epoch 22\n",
      "Loss: 0.1022\n",
      "Training epoch 23\n",
      "Loss: 0.0993\n",
      "Training epoch 24\n",
      "Loss: 0.0798\n",
      "Training epoch 25\n",
      "Saving model...\n",
      "Loss: 0.1069\n",
      "Training epoch 26\n",
      "Loss: 0.1147\n",
      "Training epoch 27\n",
      "Loss: 0.1040\n",
      "Training epoch 28\n",
      "Loss: 0.1021\n",
      "Training epoch 29\n",
      "Loss: 0.1021\n",
      "Training epoch 30\n",
      "Saving model...\n",
      "Loss: 0.0903\n",
      "Training epoch 31\n",
      "Loss: 0.1092\n",
      "Training epoch 32\n",
      "Loss: 0.0964\n",
      "Training epoch 33\n",
      "Loss: 0.1091\n",
      "Training epoch 34\n",
      "Loss: 0.1121\n",
      "Training epoch 35\n",
      "Saving model...\n",
      "Loss: 0.1075\n",
      "Training epoch 36\n",
      "Loss: 0.0941\n",
      "Training epoch 37\n",
      "Loss: 0.1042\n",
      "Training epoch 38\n",
      "Loss: 0.1037\n",
      "Training epoch 39\n",
      "Loss: 0.0833\n",
      "Training epoch 40\n",
      "Saving model...\n",
      "Loss: 0.0905\n",
      "Training epoch 41\n",
      "Loss: 0.1114\n",
      "Training epoch 42\n",
      "Loss: 0.1004\n",
      "Training epoch 43\n",
      "Loss: 0.0834\n",
      "Training epoch 44\n",
      "Loss: 0.0799\n",
      "Training epoch 45\n",
      "Saving model...\n",
      "Loss: 0.1122\n",
      "Training epoch 46\n",
      "Loss: 0.1068\n",
      "Training epoch 47\n",
      "Loss: 0.1166\n",
      "Training epoch 48\n",
      "Loss: 0.1088\n",
      "Training epoch 49\n",
      "Loss: 0.1033\n",
      "Training epoch 50\n",
      "Saving model...\n",
      "Loss: 0.1027\n",
      "Training epoch 51\n",
      "Loss: 0.0978\n",
      "Training epoch 52\n",
      "Loss: 0.1076\n",
      "Training epoch 53\n",
      "Loss: 0.0968\n",
      "Training epoch 54\n",
      "Loss: 0.1041\n",
      "Training epoch 55\n",
      "Saving model...\n",
      "Loss: 0.0936\n",
      "Training epoch 56\n",
      "Loss: 0.0989\n",
      "Training epoch 57\n",
      "Loss: 0.0984\n",
      "Training epoch 58\n",
      "Loss: 0.0808\n",
      "Training epoch 59\n",
      "Loss: 0.0944\n",
      "Training epoch 60\n",
      "Saving model...\n",
      "Loss: 0.0871\n",
      "Training epoch 61\n",
      "Loss: 0.0906\n",
      "Training epoch 62\n",
      "Loss: 0.0914\n",
      "Training epoch 63\n",
      "Loss: 0.0828\n",
      "Training epoch 64\n",
      "Loss: 0.1009\n",
      "Training epoch 65\n",
      "Saving model...\n",
      "Loss: 0.1078\n",
      "Training epoch 66\n",
      "Loss: 0.1048\n",
      "Training epoch 67\n",
      "Loss: 0.1061\n",
      "Training epoch 68\n",
      "Loss: 0.1123\n",
      "Training epoch 69\n",
      "Loss: 0.1011\n",
      "Training epoch 70\n",
      "Saving model...\n",
      "Loss: 0.1049\n",
      "Training epoch 71\n",
      "Loss: 0.1029\n",
      "Training epoch 72\n",
      "Loss: 0.1098\n",
      "Training epoch 73\n",
      "Loss: 0.0982\n",
      "Training epoch 74\n",
      "Loss: 0.1078\n",
      "Training epoch 75\n",
      "Saving model...\n",
      "Loss: 0.0999\n",
      "Training epoch 76\n",
      "Loss: 0.0920\n",
      "Training epoch 77\n",
      "Loss: 0.1060\n",
      "Training epoch 78\n",
      "Loss: 0.0976\n",
      "Training epoch 79\n",
      "Loss: 0.1021\n",
      "Training epoch 80\n",
      "Saving model...\n",
      "Loss: 0.0889\n",
      "Training epoch 81\n",
      "Loss: 0.1099\n",
      "Training epoch 82\n",
      "Loss: 0.0963\n",
      "Training epoch 83\n",
      "Loss: 0.1020\n",
      "Training epoch 84\n",
      "Loss: 0.0951\n",
      "Training epoch 85\n",
      "Saving model...\n",
      "Loss: 0.0960\n",
      "Training epoch 86\n",
      "Loss: 0.0867\n",
      "Training epoch 87\n",
      "Loss: 0.0808\n",
      "Training epoch 88\n",
      "Loss: 0.0971\n",
      "Training epoch 89\n",
      "Loss: 0.1042\n",
      "Training epoch 90\n",
      "Saving model...\n",
      "Loss: 0.1034\n",
      "Training epoch 91\n",
      "Loss: 0.0810\n",
      "Training epoch 92\n",
      "Loss: 0.0977\n",
      "Training epoch 93\n",
      "Loss: 0.0951\n",
      "Training epoch 94\n",
      "Loss: 0.0838\n",
      "Training epoch 95\n",
      "Saving model...\n",
      "Loss: 0.1064\n",
      "Training epoch 96\n",
      "Loss: 0.0926\n",
      "Training epoch 97\n",
      "Loss: 0.1089\n",
      "Training epoch 98\n",
      "Loss: 0.1061\n",
      "Training epoch 99\n",
      "Loss: 0.0805\n",
      "Training epoch 100\n",
      "Saving model...\n",
      "Loss: 0.0905\n"
     ]
    }
   ],
   "source": [
    "from matplotlib import pyplot as plt\n",
    "\n",
    "epoch = 1\n",
    "while epoch <= total_epochs:\n",
    "    print(f'Training epoch {epoch}')\n",
    "    \n",
    "    running_loss = 0.0\n",
    "    for i, data in enumerate(dataloader):\n",
    "        inputs, labels = data\n",
    "        inputs, labels = inputs.to('cuda'), labels.to('cuda')\n",
    "        optimizer.zero_grad()\n",
    "\n",
    "        outputs = net(inputs)\n",
    "        \n",
    "        loss = loss_function(outputs, labels)\n",
    "        loss.backward()\n",
    "        \n",
    "        optimizer.step()\n",
    "        \n",
    "        running_loss += loss.item()\n",
    "        \n",
    "    if epoch % epochs_between_saves == 0:\n",
    "        print('Saving model...')\n",
    "        torch.save(net.state_dict(), saved_model_path)\n",
    "        \n",
    "    print (f'Loss: {running_loss / len(dataloader):.4f}')\n",
    "    epoch += 1"
   ]
  },
  {
   "cell_type": "markdown",
   "metadata": {},
   "source": [
    "### 💾 Save Progress"
   ]
  },
  {
   "cell_type": "code",
   "execution_count": 21,
   "metadata": {},
   "outputs": [],
   "source": [
    "torch.save(net.state_dict(), saved_model_path)"
   ]
  }
 ],
 "metadata": {
  "kernelspec": {
   "display_name": "Python 3",
   "language": "python",
   "name": "python3"
  },
  "language_info": {
   "codemirror_mode": {
    "name": "ipython",
    "version": 3
   },
   "file_extension": ".py",
   "mimetype": "text/x-python",
   "name": "python",
   "nbconvert_exporter": "python",
   "pygments_lexer": "ipython3",
   "version": "3.12.7"
  }
 },
 "nbformat": 4,
 "nbformat_minor": 2
}
