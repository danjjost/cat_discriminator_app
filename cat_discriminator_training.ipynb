{
 "cells": [
  {
   "cell_type": "markdown",
   "metadata": {},
   "source": [
    "# 🐈 Cat Discriminator"
   ]
  },
  {
   "cell_type": "markdown",
   "metadata": {},
   "source": [
    "### 📝 Imports"
   ]
  },
  {
   "cell_type": "code",
   "execution_count": 1,
   "metadata": {},
   "outputs": [
    {
     "name": "stderr",
     "output_type": "stream",
     "text": [
      "c:\\Users\\Dan\\AppData\\Local\\Programs\\Python\\Python312\\Lib\\site-packages\\albumentations\\__init__.py:24: UserWarning: A new version of Albumentations is available: 1.4.21 (you have 1.4.20). Upgrade using: pip install -U albumentations. To disable automatic update checks, set the environment variable NO_ALBUMENTATIONS_UPDATE to 1.\n",
      "  check_for_updates()\n"
     ]
    }
   ],
   "source": [
    "import torch\n",
    "import torch.optim as optim\n",
    "from torch.utils.data import DataLoader\n",
    "\n",
    "import albumentations as A\n",
    "\n",
    "import torchvision\n",
    "import torchvision.transforms as transforms\n",
    "\n",
    "import os\n",
    "\n",
    "from PIL import Image\n",
    "\n",
    "from cat_discriminator_neural_net import CatDiscriminatorNeuralNet\n",
    "\n",
    "from tools.augmentation.data_augmenter import DataAugmenter\n"
   ]
  },
  {
   "cell_type": "markdown",
   "metadata": {},
   "source": [
    "### 🔧 Config"
   ]
  },
  {
   "cell_type": "code",
   "execution_count": 2,
   "metadata": {},
   "outputs": [],
   "source": [
    "learning_rate = 0.01\n",
    "epochs_between_saves = 5\n",
    "total_epochs = 30\n",
    "\n",
    "saved_model_path = \"trained_networks/cat_discriminator_512x512.pth\"\n",
    "bathroom_cat_dir_path = 'data/bathroom-cat-512x512/'\n",
    "captain_dir_path = 'data/captain-512x512/'\n",
    "control_dir_path= 'data/control-512x512/'"
   ]
  },
  {
   "cell_type": "markdown",
   "metadata": {},
   "source": [
    "### 🌐 Create Transforms"
   ]
  },
  {
   "cell_type": "code",
   "execution_count": 3,
   "metadata": {},
   "outputs": [
    {
     "name": "stdout",
     "output_type": "stream",
     "text": [
      "DataAugmenter initialized\n"
     ]
    }
   ],
   "source": [
    "transforms = transforms.Compose([\n",
    "    DataAugmenter(),\n",
    "    transforms.ToTensor(),\n",
    "    transforms.Normalize((0.5, 0.5, 0.5), (0.5, 0.5, 0.5))\n",
    "])"
   ]
  },
  {
   "cell_type": "markdown",
   "metadata": {},
   "source": [
    "### 🚦 Load Training Data"
   ]
  },
  {
   "cell_type": "code",
   "execution_count": 4,
   "metadata": {},
   "outputs": [],
   "source": [
    "from cats_dataset import CatsDataset\n",
    "\n",
    "\n",
    "dataset = CatsDataset(bathroom_cat_dir=bathroom_cat_dir_path, captain_dir=captain_dir_path, control_dir=control_dir_path, transform=transforms)\n",
    "dataloader = DataLoader(dataset, batch_size=32, shuffle=True, num_workers=2)"
   ]
  },
  {
   "cell_type": "markdown",
   "metadata": {},
   "source": [
    "### 🥾 Initialize the Neural Net"
   ]
  },
  {
   "cell_type": "code",
   "execution_count": 5,
   "metadata": {},
   "outputs": [
    {
     "name": "stderr",
     "output_type": "stream",
     "text": [
      "C:\\Users\\Dan\\AppData\\Local\\Temp\\ipykernel_26600\\412691464.py:4: FutureWarning: You are using `torch.load` with `weights_only=False` (the current default value), which uses the default pickle module implicitly. It is possible to construct malicious pickle data which will execute arbitrary code during unpickling (See https://github.com/pytorch/pytorch/blob/main/SECURITY.md#untrusted-models for more details). In a future release, the default value for `weights_only` will be flipped to `True`. This limits the functions that could be executed during unpickling. Arbitrary objects will no longer be allowed to be loaded via this mode unless they are explicitly allowlisted by the user via `torch.serialization.add_safe_globals`. We recommend you start setting `weights_only=True` for any use case where you don't have full control of the loaded file. Please open an issue on GitHub for any issues related to this experimental feature.\n",
      "  net.load_state_dict(torch.load(saved_model_path))\n"
     ]
    }
   ],
   "source": [
    "net = CatDiscriminatorNeuralNet()\n",
    "\n",
    "if os.path.isfile(saved_model_path):\n",
    "    net.load_state_dict(torch.load(saved_model_path))\n",
    "\n",
    "net.cuda()\n",
    "loss_function = torch.nn.CrossEntropyLoss()\n",
    "optimizer = optim.SGD(net.parameters(), lr=learning_rate)"
   ]
  },
  {
   "cell_type": "markdown",
   "metadata": {},
   "source": [
    "### 🏃‍♂️‍➡️ Train"
   ]
  },
  {
   "cell_type": "code",
   "execution_count": 6,
   "metadata": {},
   "outputs": [
    {
     "name": "stdout",
     "output_type": "stream",
     "text": [
      "Training epoch 1\n",
      "Loss: 0.1043\n",
      "Training epoch 2\n",
      "Loss: 0.1045\n",
      "Training epoch 3\n",
      "Loss: 0.0673\n",
      "Training epoch 4\n",
      "Loss: 0.0960\n",
      "Training epoch 5\n",
      "Saving model...\n",
      "Loss: 0.0650\n",
      "Training epoch 6\n",
      "Loss: 0.0903\n",
      "Training epoch 7\n",
      "Loss: 0.0902\n",
      "Training epoch 8\n",
      "Loss: 0.0567\n",
      "Training epoch 9\n",
      "Loss: 0.0770\n",
      "Training epoch 10\n",
      "Saving model...\n",
      "Loss: 0.0588\n",
      "Training epoch 11\n",
      "Loss: 0.0682\n",
      "Training epoch 12\n",
      "Loss: 0.0660\n",
      "Training epoch 13\n",
      "Loss: 0.0599\n",
      "Training epoch 14\n",
      "Loss: 0.0752\n",
      "Training epoch 15\n",
      "Saving model...\n",
      "Loss: 0.0756\n",
      "Training epoch 16\n",
      "Loss: 0.0667\n",
      "Training epoch 17\n",
      "Loss: 0.0600\n",
      "Training epoch 18\n",
      "Loss: 0.0666\n",
      "Training epoch 19\n",
      "Loss: 0.0549\n",
      "Training epoch 20\n",
      "Saving model...\n",
      "Loss: 0.0471\n",
      "Training epoch 21\n",
      "Loss: 0.0652\n",
      "Training epoch 22\n",
      "Loss: 0.0716\n",
      "Training epoch 23\n",
      "Loss: 0.0532\n",
      "Training epoch 24\n",
      "Loss: 0.0739\n",
      "Training epoch 25\n",
      "Saving model...\n",
      "Loss: 0.0474\n",
      "Training epoch 26\n",
      "Loss: 0.0695\n",
      "Training epoch 27\n",
      "Loss: 0.0655\n",
      "Training epoch 28\n",
      "Loss: 0.0547\n",
      "Training epoch 29\n",
      "Loss: 0.0770\n",
      "Training epoch 30\n",
      "Saving model...\n",
      "Loss: 0.0474\n"
     ]
    }
   ],
   "source": [
    "from matplotlib import pyplot as plt\n",
    "\n",
    "epoch = 1\n",
    "while epoch <= total_epochs:\n",
    "    print(f'Training epoch {epoch}')\n",
    "    \n",
    "    running_loss = 0.0\n",
    "    for i, data in enumerate(dataloader):\n",
    "        inputs, labels = data\n",
    "        inputs, labels = inputs.to('cuda'), labels.to('cuda')\n",
    "        optimizer.zero_grad()\n",
    "\n",
    "        outputs = net(inputs)\n",
    "        \n",
    "        loss = loss_function(outputs, labels)\n",
    "        loss.backward()\n",
    "        \n",
    "        optimizer.step()\n",
    "        \n",
    "        running_loss += loss.item()\n",
    "        \n",
    "    if epoch % epochs_between_saves == 0:\n",
    "        print('Saving model...')\n",
    "        torch.save(net.state_dict(), saved_model_path)\n",
    "        \n",
    "    print (f'Loss: {running_loss / len(dataloader):.4f}')\n",
    "    epoch += 1"
   ]
  },
  {
   "cell_type": "markdown",
   "metadata": {},
   "source": [
    "### 💾 Save Progress"
   ]
  },
  {
   "cell_type": "code",
   "execution_count": 7,
   "metadata": {},
   "outputs": [],
   "source": [
    "torch.save(net.state_dict(), saved_model_path)"
   ]
  }
 ],
 "metadata": {
  "kernelspec": {
   "display_name": "Python 3",
   "language": "python",
   "name": "python3"
  },
  "language_info": {
   "codemirror_mode": {
    "name": "ipython",
    "version": 3
   },
   "file_extension": ".py",
   "mimetype": "text/x-python",
   "name": "python",
   "nbconvert_exporter": "python",
   "pygments_lexer": "ipython3",
   "version": "3.12.7"
  }
 },
 "nbformat": 4,
 "nbformat_minor": 2
}
