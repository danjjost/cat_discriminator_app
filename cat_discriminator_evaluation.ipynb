{
 "cells": [
  {
   "cell_type": "markdown",
   "metadata": {},
   "source": [
    "# 🙀 Cat Evaluation"
   ]
  },
  {
   "cell_type": "markdown",
   "metadata": {},
   "source": [
    "### 📝 Imports"
   ]
  },
  {
   "cell_type": "code",
   "execution_count": 8,
   "metadata": {},
   "outputs": [],
   "source": [
    "import torch\n",
    "import torch.optim as optim\n",
    "from torch.utils.data import DataLoader\n",
    "\n",
    "import albumentations as A\n",
    "\n",
    "import torchvision.transforms as transforms\n",
    "\n",
    "import os\n",
    "\n",
    "from cat_discriminator_neural_net import CatDiscriminatorNeuralNet\n",
    "\n",
    "from src.augmentation.data_augmenter import DataAugmenter\n",
    "\n",
    "from cats_dataset import CatsDataset"
   ]
  },
  {
   "cell_type": "markdown",
   "metadata": {},
   "source": [
    "### 🔧 Config"
   ]
  },
  {
   "cell_type": "code",
   "execution_count": 9,
   "metadata": {},
   "outputs": [],
   "source": [
    "image_size = 512\n",
    "\n",
    "saved_model_path = \"trained_networks/cat_discriminator.pth\"\n",
    "\n",
    "testing_data_path = 'data/test'"
   ]
  },
  {
   "cell_type": "markdown",
   "metadata": {},
   "source": [
    "### 🌐 Create Transforms"
   ]
  },
  {
   "cell_type": "code",
   "execution_count": null,
   "metadata": {},
   "outputs": [],
   "source": [
    "transform = transforms.Compose([\n",
    "    DataAugmenter(target_image_size=image_size, augment_images=False),\n",
    "    transforms.ToTensor(), # converts numpy to trans\n",
    "])"
   ]
  },
  {
   "cell_type": "markdown",
   "metadata": {},
   "source": [
    "### 🤓📝 Load Testing Data"
   ]
  },
  {
   "cell_type": "code",
   "execution_count": 11,
   "metadata": {},
   "outputs": [],
   "source": [
    "dataset = CatsDataset(\n",
    "    root_dir=testing_data_path,\n",
    "    transform=transform)\n",
    "\n",
    "dataloader = DataLoader(dataset, shuffle=False, num_workers=4)"
   ]
  },
  {
   "cell_type": "markdown",
   "metadata": {},
   "source": [
    "### 🥾 Initialize the Neural Net"
   ]
  },
  {
   "cell_type": "code",
   "execution_count": null,
   "metadata": {},
   "outputs": [],
   "source": [
    "net = CatDiscriminatorNeuralNet()\n",
    "\n",
    "if os.path.isfile(saved_model_path):\n",
    "    net.load_state_dict(torch.load(saved_model_path))\n",
    "\n",
    "net.cuda()\n",
    "net.eval()"
   ]
  },
  {
   "cell_type": "markdown",
   "metadata": {},
   "source": [
    "### 🤖 Evaluate"
   ]
  },
  {
   "cell_type": "code",
   "execution_count": null,
   "metadata": {},
   "outputs": [],
   "source": [
    "import numpy\n",
    "\n",
    "\n",
    "correct = 0\n",
    "total = 0\n",
    "\n",
    "def print_predictions(labels, outputs):\n",
    "    numpy_labels = labels.flatten().cpu().numpy()\n",
    "    max_label_index = numpy.argmax(numpy_labels)\n",
    "    actual_label = dataset.index_to_class_name(max_label_index)\n",
    "\n",
    "    numpy_outputs = outputs.flatten().cpu().numpy()\n",
    "    max_output_index = numpy.argmax(numpy_outputs)\n",
    "    predicted_label = dataset.index_to_class_name(max_output_index)\n",
    "\n",
    "\n",
    "    print(\"Actual:\" + actual_label)\n",
    "    print(\"Predicted:\" + predicted_label)\n",
    "\n",
    "    for i in range(len(numpy_outputs)):\n",
    "        print(f'{dataset.index_to_class_name(i)}: {numpy_outputs[i]:.2f}')\n",
    "\n",
    "    print(\"\")\n",
    "    print(\"\")\n",
    "\n",
    "with torch.no_grad():\n",
    "    for inputs, labels in dataloader:\n",
    "        inputs = inputs.to('cuda')\n",
    "        labels = labels.to('cuda')\n",
    "\n",
    "        # Forward pass\n",
    "        outputs = net(inputs)  # outputs: [batch_size, num_classes]\n",
    "\n",
    "        # Get predicted classes as indices\n",
    "        _, predicted = torch.max(outputs, dim=1)  \n",
    "\n",
    "        print_predictions(labels, outputs)\n",
    "        \n",
    "        numpy_labels = labels.flatten().cpu().numpy()\n",
    "        max_label_index = numpy.argmax(numpy_labels)\n",
    "        actual_label = dataset.index_to_class_name(max_label_index)\n",
    "\n",
    "        numpy_outputs = outputs.flatten().cpu().numpy()\n",
    "        max_output_index = numpy.argmax(numpy_outputs)\n",
    "        predicted_label = dataset.index_to_class_name(max_output_index)\n",
    "\n",
    "        total += 1\n",
    "        if predicted_label == actual_label:\n",
    "            correct += 1\n",
    "\n",
    "accuracy = (correct / total) * 100\n",
    "print(f'Accuracy: {accuracy:.2f}%')"
   ]
  },
  {
   "cell_type": "markdown",
   "metadata": {},
   "source": [
    "### 💾 Save Progress"
   ]
  },
  {
   "cell_type": "code",
   "execution_count": 14,
   "metadata": {},
   "outputs": [],
   "source": [
    "torch.save(net.state_dict(), saved_model_path)"
   ]
  }
 ],
 "metadata": {
  "kernelspec": {
   "display_name": "Python 3",
   "language": "python",
   "name": "python3"
  },
  "language_info": {
   "codemirror_mode": {
    "name": "ipython",
    "version": 3
   },
   "file_extension": ".py",
   "mimetype": "text/x-python",
   "name": "python",
   "nbconvert_exporter": "python",
   "pygments_lexer": "ipython3",
   "version": "3.12.7"
  }
 },
 "nbformat": 4,
 "nbformat_minor": 2
}
