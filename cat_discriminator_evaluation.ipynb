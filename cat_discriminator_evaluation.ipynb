{
 "cells": [
  {
   "cell_type": "markdown",
   "metadata": {},
   "source": [
    "# 🙀 Cat Evaluation"
   ]
  },
  {
   "cell_type": "markdown",
   "metadata": {},
   "source": [
    "### 📝 Imports"
   ]
  },
  {
   "cell_type": "code",
   "execution_count": 114,
   "metadata": {},
   "outputs": [],
   "source": [
    "import torch\n",
    "import torch.optim as optim\n",
    "from torch.utils.data import DataLoader\n",
    "\n",
    "import albumentations as A\n",
    "\n",
    "import torchvision\n",
    "import torchvision.transforms as transforms\n",
    "\n",
    "import os\n",
    "\n",
    "from PIL import Image\n",
    "\n",
    "from cat_discriminator_neural_net import CatDiscriminatorNeuralNet\n",
    "\n",
    "from tools.augmentation.data_augmenter import DataAugmenter\n",
    "\n",
    "from cats_dataset import CatsDataset"
   ]
  },
  {
   "cell_type": "markdown",
   "metadata": {},
   "source": [
    "### 🔧 Config"
   ]
  },
  {
   "cell_type": "code",
   "execution_count": 115,
   "metadata": {},
   "outputs": [],
   "source": [
    "image_size = 512\n",
    "\n",
    "saved_model_path = \"trained_networks/cat_discriminator.pth\"\n",
    "\n",
    "training_data_path = 'data/test'\n",
    "\n",
    "bathroom_cat_path = '/bathroom-cat'\n",
    "captain_dir_path = '/captain'\n",
    "control_dir_path= '/control'"
   ]
  },
  {
   "cell_type": "markdown",
   "metadata": {},
   "source": [
    "### 🌐 Create Transforms"
   ]
  },
  {
   "cell_type": "code",
   "execution_count": 116,
   "metadata": {},
   "outputs": [
    {
     "name": "stdout",
     "output_type": "stream",
     "text": [
      "DataAugmenter initialized\n"
     ]
    }
   ],
   "source": [
    "transforms = transforms.Compose([\n",
    "    DataAugmenter(target_image_size=image_size, augment_images=False),\n",
    "    transforms.ToTensor(),\n",
    "])"
   ]
  },
  {
   "cell_type": "markdown",
   "metadata": {},
   "source": [
    "### 🤓📝 Load Testing Data"
   ]
  },
  {
   "cell_type": "code",
   "execution_count": 117,
   "metadata": {},
   "outputs": [],
   "source": [
    "\n",
    "\n",
    "\n",
    "dataset = CatsDataset(\n",
    "    bathroom_cat_dir=training_data_path + bathroom_cat_path, \n",
    "    captain_dir=training_data_path + captain_dir_path, \n",
    "    control_dir=training_data_path + control_dir_path, \n",
    "    transform=transforms)\n",
    "\n",
    "dataloader = DataLoader(dataset, shuffle=False, num_workers=4)"
   ]
  },
  {
   "cell_type": "markdown",
   "metadata": {},
   "source": [
    "### 🥾 Initialize the Neural Net"
   ]
  },
  {
   "cell_type": "code",
   "execution_count": 118,
   "metadata": {},
   "outputs": [
    {
     "name": "stderr",
     "output_type": "stream",
     "text": [
      "C:\\Users\\Dan\\AppData\\Local\\Temp\\ipykernel_12000\\3838318272.py:4: FutureWarning: You are using `torch.load` with `weights_only=False` (the current default value), which uses the default pickle module implicitly. It is possible to construct malicious pickle data which will execute arbitrary code during unpickling (See https://github.com/pytorch/pytorch/blob/main/SECURITY.md#untrusted-models for more details). In a future release, the default value for `weights_only` will be flipped to `True`. This limits the functions that could be executed during unpickling. Arbitrary objects will no longer be allowed to be loaded via this mode unless they are explicitly allowlisted by the user via `torch.serialization.add_safe_globals`. We recommend you start setting `weights_only=True` for any use case where you don't have full control of the loaded file. Please open an issue on GitHub for any issues related to this experimental feature.\n",
      "  net.load_state_dict(torch.load(saved_model_path))\n"
     ]
    },
    {
     "data": {
      "text/plain": [
       "CatDiscriminatorNeuralNet(\n",
       "  (conv1): Conv2d(3, 12, kernel_size=(10, 10), stride=(1, 1))\n",
       "  (pool1): MaxPool2d(kernel_size=2, stride=2, padding=0, dilation=1, ceil_mode=False)\n",
       "  (conv2): Conv2d(12, 24, kernel_size=(5, 5), stride=(1, 1))\n",
       "  (pool2): MaxPool2d(kernel_size=2, stride=2, padding=0, dilation=1, ceil_mode=False)\n",
       "  (conv3): Conv2d(24, 48, kernel_size=(5, 5), stride=(1, 1))\n",
       "  (pool3): MaxPool2d(kernel_size=2, stride=2, padding=0, dilation=1, ceil_mode=True)\n",
       "  (conv4): Conv2d(48, 96, kernel_size=(3, 3), stride=(1, 1))\n",
       "  (pool4): MaxPool2d(kernel_size=2, stride=2, padding=0, dilation=1, ceil_mode=True)\n",
       "  (fc1): Linear(in_features=80736, out_features=1624, bias=True)\n",
       "  (fc2): Linear(in_features=1624, out_features=864, bias=True)\n",
       "  (fc3): Linear(in_features=864, out_features=256, bias=True)\n",
       "  (fc4): Linear(in_features=256, out_features=64, bias=True)\n",
       "  (fc5): Linear(in_features=64, out_features=3, bias=True)\n",
       "  (dropout1): Dropout(p=0.5, inplace=False)\n",
       "  (dropout2): Dropout(p=0.5, inplace=False)\n",
       "  (dropout3): Dropout(p=0.5, inplace=False)\n",
       "  (dropout4): Dropout(p=0.5, inplace=False)\n",
       ")"
      ]
     },
     "execution_count": 118,
     "metadata": {},
     "output_type": "execute_result"
    }
   ],
   "source": [
    "net = CatDiscriminatorNeuralNet()\n",
    "\n",
    "if os.path.isfile(saved_model_path):\n",
    "    net.load_state_dict(torch.load(saved_model_path))\n",
    "\n",
    "net.cuda()\n",
    "net.eval()"
   ]
  },
  {
   "cell_type": "markdown",
   "metadata": {},
   "source": [
    "### 🤖 Evaluate"
   ]
  },
  {
   "cell_type": "code",
   "execution_count": null,
   "metadata": {},
   "outputs": [
    {
     "name": "stdout",
     "output_type": "stream",
     "text": [
      "Actual:bathroom-cat\n",
      "Predicted:bathroom-cat\n",
      "bathroom-cat: 2.99\n",
      "captain: -0.85\n",
      "control: -2.40\n",
      "\n",
      "\n",
      "Actual:bathroom-cat\n",
      "Predicted:bathroom-cat\n",
      "bathroom-cat: 1.34\n",
      "captain: -0.65\n",
      "control: -0.68\n",
      "\n",
      "\n",
      "Actual:bathroom-cat\n",
      "Predicted:bathroom-cat\n",
      "bathroom-cat: 2.77\n",
      "captain: 0.29\n",
      "control: -3.03\n",
      "\n",
      "\n",
      "Actual:bathroom-cat\n",
      "Predicted:control\n",
      "bathroom-cat: -4.32\n",
      "captain: 1.63\n",
      "control: 1.78\n",
      "\n",
      "\n",
      "Actual:bathroom-cat\n",
      "Predicted:captain\n",
      "bathroom-cat: -0.05\n",
      "captain: 0.38\n",
      "control: -0.38\n",
      "\n",
      "\n",
      "Actual:bathroom-cat\n",
      "Predicted:bathroom-cat\n",
      "bathroom-cat: 2.21\n",
      "captain: -0.41\n",
      "control: -1.86\n",
      "\n",
      "\n",
      "Actual:bathroom-cat\n",
      "Predicted:bathroom-cat\n",
      "bathroom-cat: 4.29\n",
      "captain: -0.97\n",
      "control: -3.80\n",
      "\n",
      "\n",
      "Actual:bathroom-cat\n",
      "Predicted:bathroom-cat\n",
      "bathroom-cat: 3.41\n",
      "captain: -0.43\n",
      "control: -3.24\n",
      "\n",
      "\n",
      "Actual:bathroom-cat\n",
      "Predicted:control\n",
      "bathroom-cat: -1.03\n",
      "captain: -0.67\n",
      "control: 1.42\n",
      "\n",
      "\n",
      "Actual:bathroom-cat\n",
      "Predicted:bathroom-cat\n",
      "bathroom-cat: 2.70\n",
      "captain: -0.63\n",
      "control: -2.26\n",
      "\n",
      "\n",
      "Actual:bathroom-cat\n",
      "Predicted:bathroom-cat\n",
      "bathroom-cat: 2.15\n",
      "captain: -0.47\n",
      "control: -1.75\n",
      "\n",
      "\n",
      "Actual:bathroom-cat\n",
      "Predicted:bathroom-cat\n",
      "bathroom-cat: 1.42\n",
      "captain: 0.48\n",
      "control: -1.75\n",
      "\n",
      "\n",
      "Actual:bathroom-cat\n",
      "Predicted:control\n",
      "bathroom-cat: 0.13\n",
      "captain: -0.80\n",
      "control: 0.59\n",
      "\n",
      "\n",
      "Actual:bathroom-cat\n",
      "Predicted:control\n",
      "bathroom-cat: -0.14\n",
      "captain: -0.91\n",
      "control: 0.92\n",
      "\n",
      "\n",
      "Actual:bathroom-cat\n",
      "Predicted:bathroom-cat\n",
      "bathroom-cat: 2.14\n",
      "captain: -0.62\n",
      "control: -1.62\n",
      "\n",
      "\n",
      "Actual:bathroom-cat\n",
      "Predicted:bathroom-cat\n",
      "bathroom-cat: 2.71\n",
      "captain: -0.81\n",
      "control: -2.12\n",
      "\n",
      "\n",
      "Actual:bathroom-cat\n",
      "Predicted:captain\n",
      "bathroom-cat: -0.35\n",
      "captain: 0.73\n",
      "control: -0.47\n",
      "\n",
      "\n",
      "Actual:bathroom-cat\n",
      "Predicted:bathroom-cat\n",
      "bathroom-cat: 0.50\n",
      "captain: 0.27\n",
      "control: -0.73\n",
      "\n",
      "\n"
     ]
    }
   ],
   "source": [
    "import numpy\n",
    "\n",
    "\n",
    "correct = 0\n",
    "total = 0\n",
    "\n",
    "def print_predictions(labels, outputs):\n",
    "    numpy_labels = labels.flatten().cpu().numpy()\n",
    "    max_label_index = numpy.argmax(numpy_labels)\n",
    "    actual_label = dataset.index_to_class_name(max_label_index)\n",
    "\n",
    "    numpy_outputs = outputs.flatten().cpu().numpy()\n",
    "    max_output_index = numpy.argmax(numpy_outputs)\n",
    "    predicted_label = dataset.index_to_class_name(max_output_index)\n",
    "\n",
    "\n",
    "    print(\"Actual:\" + actual_label)\n",
    "    print(\"Predicted:\" + predicted_label)\n",
    "\n",
    "    for i in range(len(numpy_outputs)):\n",
    "        print(f'{dataset.index_to_class_name(i)}: {numpy_outputs[i]:.2f}')\n",
    "\n",
    "    print(\"\")\n",
    "    print(\"\")\n",
    "\n",
    "with torch.no_grad():\n",
    "    for inputs, labels in dataloader:\n",
    "        inputs = inputs.to('cuda')\n",
    "        labels = labels.to('cuda')\n",
    "\n",
    "        # Forward pass\n",
    "        outputs = net(inputs)  # outputs: [batch_size, num_classes]\n",
    "\n",
    "        # Get predicted classes as indices\n",
    "        _, predicted = torch.max(outputs, dim=1)  \n",
    "\n",
    "        print_predictions(labels, outputs)\n",
    "        \n",
    "        numpy_labels = labels.flatten().cpu().numpy()\n",
    "        max_label_index = numpy.argmax(numpy_labels)\n",
    "        actual_label = dataset.index_to_class_name(max_label_index)\n",
    "\n",
    "        numpy_outputs = outputs.flatten().cpu().numpy()\n",
    "        max_output_index = numpy.argmax(numpy_outputs)\n",
    "        predicted_label = dataset.index_to_class_name(max_output_index)\n",
    "\n",
    "        total += 1\n",
    "        if predicted_label == actual_label:\n",
    "            correct += 1\n",
    "\n",
    "accuracy = (correct / total) * 100\n",
    "print(f'Accuracy: {accuracy:.2f}%')"
   ]
  },
  {
   "cell_type": "markdown",
   "metadata": {},
   "source": [
    "### 💾 Save Progress"
   ]
  },
  {
   "cell_type": "code",
   "execution_count": 113,
   "metadata": {},
   "outputs": [],
   "source": [
    "torch.save(net.state_dict(), saved_model_path)"
   ]
  }
 ],
 "metadata": {
  "kernelspec": {
   "display_name": "Python 3",
   "language": "python",
   "name": "python3"
  },
  "language_info": {
   "codemirror_mode": {
    "name": "ipython",
    "version": 3
   },
   "file_extension": ".py",
   "mimetype": "text/x-python",
   "name": "python",
   "nbconvert_exporter": "python",
   "pygments_lexer": "ipython3",
   "version": "3.12.7"
  }
 },
 "nbformat": 4,
 "nbformat_minor": 2
}
