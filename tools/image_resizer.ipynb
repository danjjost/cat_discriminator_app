{
 "cells": [
  {
   "cell_type": "code",
   "execution_count": 3,
   "metadata": {},
   "outputs": [],
   "source": [
    "image_width_in_pixels = 128\n",
    "image_height_in_pixels = 128\n",
    "\n",
    "bathroom_cat_dir = '../data/staging/bathroom-cat'\n",
    "captain_dir = '../data/staging/captain'\n",
    "control_dir = '../data/staging/control'\n",
    "\n",
    "# Paths to save resized images\n",
    "bathroom_cat_resized_dir = '../data/bathroom-cat-128x128'\n",
    "captain_resized_dir = '../data/captain-128x128'\n",
    "control_resized_dir = '../data/control-128x128'"
   ]
  },
  {
   "cell_type": "code",
   "execution_count": null,
   "metadata": {},
   "outputs": [],
   "source": [
    "import os\n",
    "from PIL import Image\n",
    "\n",
    "def resize_images(input_dir, output_dir):\n",
    "    ensure_output_directory_exists(output_dir)\n",
    "\n",
    "    for img_name in os.listdir(input_dir):\n",
    "        if img_name.lower().endswith(('.jpg', '.jpeg', '.png', '.bmp', '.tif', '.tiff')):\n",
    "            input_img_path = os.path.join(input_dir, img_name)\n",
    "            output_img_path = os.path.join(output_dir, img_name)\n",
    "\n",
    "            if not os.path.exists(output_img_path):\n",
    "                resize_image(input_img_path, output_img_path)\n",
    "            else:\n",
    "                print(f'Skipping {input_img_path} as {output_img_path} already exists')\n",
    "                continue\n",
    "\n",
    "\n",
    "def ensure_output_directory_exists(output_dir):\n",
    "    if not os.path.exists(output_dir):\n",
    "        os.makedirs(output_dir)\n",
    "\n",
    "\n",
    "def resize_image(input_img_path, output_img_path):\n",
    "    print(f'Resizing {input_img_path} to {output_img_path}')\n",
    "    with Image.open(input_img_path) as img:\n",
    "        img = img.resize((image_width_in_pixels, image_height_in_pixels), Image.LANCZOS) # Antialiasing\n",
    "        img.save(output_img_path)\n",
    "\n",
    "\n",
    "# Resize images\n",
    "resize_images(bathroom_cat_dir, bathroom_cat_resized_dir)\n",
    "resize_images(captain_dir, captain_resized_dir)\n",
    "resize_images(control_dir, control_resized_dir)"
   ]
  }
 ],
 "metadata": {
  "kernelspec": {
   "display_name": "Python 3",
   "language": "python",
   "name": "python3"
  },
  "language_info": {
   "codemirror_mode": {
    "name": "ipython",
    "version": 3
   },
   "file_extension": ".py",
   "mimetype": "text/x-python",
   "name": "python",
   "nbconvert_exporter": "python",
   "pygments_lexer": "ipython3",
   "version": "3.12.7"
  }
 },
 "nbformat": 4,
 "nbformat_minor": 2
}
