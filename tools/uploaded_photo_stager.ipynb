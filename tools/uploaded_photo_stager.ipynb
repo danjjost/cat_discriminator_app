{
 "cells": [
  {
   "cell_type": "markdown",
   "metadata": {},
   "source": [
    "# 📷 Uploaded Photo Stager\n",
    "\n",
    "This script downloads photos from the Azure Blob Storage Containers to their corresponding /staging folders for manual review."
   ]
  },
  {
   "cell_type": "markdown",
   "metadata": {},
   "source": [
    "### 🔧 Config"
   ]
  },
  {
   "cell_type": "code",
   "execution_count": 4,
   "metadata": {},
   "outputs": [],
   "source": [
    "classes = ['control', 'captain', 'bathroom-cat'] # The class / container names\n",
    "output_dir = '../data/staging'\n",
    "clear_blob_storage = True"
   ]
  },
  {
   "cell_type": "markdown",
   "metadata": {},
   "source": [
    "### 🌳 Load Env Variables"
   ]
  },
  {
   "cell_type": "code",
   "execution_count": 5,
   "metadata": {},
   "outputs": [],
   "source": [
    "import os\n",
    "from dotenv import load_dotenv\n",
    "load_dotenv(dotenv_path=\"../.env\")\n",
    "\n",
    "blob_storage_connection_string = os.getenv(\"BLOB_STORAGE_CONNECTION_STRING\")\n",
    "\n",
    "if not blob_storage_connection_string:\n",
    "    raise ValueError(\"BLOB_STORAGE_CONNECTION_STRING environment variable not set. Please check your .env file.\")"
   ]
  },
  {
   "cell_type": "markdown",
   "metadata": {},
   "source": [
    "### ⬇️ Download"
   ]
  },
  {
   "cell_type": "code",
   "execution_count": 7,
   "metadata": {},
   "outputs": [
    {
     "name": "stdout",
     "output_type": "stream",
     "text": [
      "Downloading blobs from container 'control' into '../data/staging\\control'...\n",
      "Downloaded d61125bc95624daab87a9235cf29e1e9.jpg to ../data/staging\\control\\d61125bc95624daab87a9235cf29e1e9.jpg\n",
      "Downloaded e8a0d7313594469a94520c137fac27d8.jpg to ../data/staging\\control\\e8a0d7313594469a94520c137fac27d8.jpg\n",
      "Downloaded fc73d40716144dd98d4c60a677fdebda.jpg to ../data/staging\\control\\fc73d40716144dd98d4c60a677fdebda.jpg\n",
      "Downloading blobs from container 'captain' into '../data/staging\\captain'...\n",
      "Downloaded 11d9ee7ad03f476d96b0e29b0f888b51.jpg to ../data/staging\\captain\\11d9ee7ad03f476d96b0e29b0f888b51.jpg\n",
      "Downloaded 121395684b7344be97307689e472ba6f.jpg to ../data/staging\\captain\\121395684b7344be97307689e472ba6f.jpg\n",
      "Downloaded 28cce36c59b1449d8143bca3353f04eb.jpg to ../data/staging\\captain\\28cce36c59b1449d8143bca3353f04eb.jpg\n",
      "Downloaded 2cac4f8f807444c48b714bdb31f72f19.jpg to ../data/staging\\captain\\2cac4f8f807444c48b714bdb31f72f19.jpg\n",
      "Downloaded 5296beff87f6485a81151611e2d583c5.jpg to ../data/staging\\captain\\5296beff87f6485a81151611e2d583c5.jpg\n",
      "Downloaded 590615e887d846e698cd1559051bdaed.jpg to ../data/staging\\captain\\590615e887d846e698cd1559051bdaed.jpg\n",
      "Downloaded 6420d379026842efbfac162aef6b011a.jpg to ../data/staging\\captain\\6420d379026842efbfac162aef6b011a.jpg\n",
      "Downloaded 81046a68198f4cf8b524f443fa24015a.jpg to ../data/staging\\captain\\81046a68198f4cf8b524f443fa24015a.jpg\n",
      "Downloaded 8de75c7c7aae41568a559be709c250f0.jpg to ../data/staging\\captain\\8de75c7c7aae41568a559be709c250f0.jpg\n",
      "Downloaded 902fa5df92b94b0b96448ee3d95c9889.jpg to ../data/staging\\captain\\902fa5df92b94b0b96448ee3d95c9889.jpg\n",
      "Downloaded 98ec4eebaaf94dfd958d01b5f57640f1.jpg to ../data/staging\\captain\\98ec4eebaaf94dfd958d01b5f57640f1.jpg\n",
      "Downloaded 9a25e3b57b034931a93061193140b585.jpg to ../data/staging\\captain\\9a25e3b57b034931a93061193140b585.jpg\n",
      "Downloaded aaf6e343f3264b0abb055e2227692fbc.jpg to ../data/staging\\captain\\aaf6e343f3264b0abb055e2227692fbc.jpg\n",
      "Downloaded b5aae1270dee473cade4609879a98a9c.jpg to ../data/staging\\captain\\b5aae1270dee473cade4609879a98a9c.jpg\n",
      "Downloaded b7f2ae36a4764019921d88c93614e9ae.jpg to ../data/staging\\captain\\b7f2ae36a4764019921d88c93614e9ae.jpg\n",
      "Downloaded bcf6ddf135e04ce4901e52446d63dc9b.jpg to ../data/staging\\captain\\bcf6ddf135e04ce4901e52446d63dc9b.jpg\n",
      "Downloaded bf7241c9808e435f9c57476cfc3c898f.jpg to ../data/staging\\captain\\bf7241c9808e435f9c57476cfc3c898f.jpg\n",
      "Downloaded c6a20b8d3c774040808de31b9f70082e.jpg to ../data/staging\\captain\\c6a20b8d3c774040808de31b9f70082e.jpg\n",
      "Downloaded c917579be9f745d19ec28e146529301d.jpg to ../data/staging\\captain\\c917579be9f745d19ec28e146529301d.jpg\n",
      "Downloaded c99d942aea934e4d968cdc551ffb97c7.jpg to ../data/staging\\captain\\c99d942aea934e4d968cdc551ffb97c7.jpg\n",
      "Downloaded d049f8dd150044098d6d8381a0c0edf5.jpg to ../data/staging\\captain\\d049f8dd150044098d6d8381a0c0edf5.jpg\n",
      "Downloaded d47937cb1cc34fedaa7fe4a48ac5868c.jpg to ../data/staging\\captain\\d47937cb1cc34fedaa7fe4a48ac5868c.jpg\n",
      "Downloaded d74cc83f99914ae7bb5fdc30c138fcb4.jpg to ../data/staging\\captain\\d74cc83f99914ae7bb5fdc30c138fcb4.jpg\n",
      "Downloaded ddaeb225f93640e68fcde3500dffd177.jpg to ../data/staging\\captain\\ddaeb225f93640e68fcde3500dffd177.jpg\n",
      "Downloaded e08f98cc146a4b4086d326dc0c437963.jpg to ../data/staging\\captain\\e08f98cc146a4b4086d326dc0c437963.jpg\n",
      "Downloaded f8a85c3ff6d74f83be3bd13d9f54de19.jpg to ../data/staging\\captain\\f8a85c3ff6d74f83be3bd13d9f54de19.jpg\n",
      "Downloading blobs from container 'bathroom-cat' into '../data/staging\\bathroom-cat'...\n",
      "Downloaded 0053b825f97b465ca60729acee824cf7.jpg to ../data/staging\\bathroom-cat\\0053b825f97b465ca60729acee824cf7.jpg\n",
      "Downloaded 022c0e16a718445da600762e4a434ec0.jpg to ../data/staging\\bathroom-cat\\022c0e16a718445da600762e4a434ec0.jpg\n",
      "Downloaded 036137e537ac4b8f9ebf7e34f0c5e1f4.jpg to ../data/staging\\bathroom-cat\\036137e537ac4b8f9ebf7e34f0c5e1f4.jpg\n",
      "Downloaded 05cba331406a4fa299ae8276c905122e.jpg to ../data/staging\\bathroom-cat\\05cba331406a4fa299ae8276c905122e.jpg\n",
      "Downloaded 1ba1ced810eb4ddb8702284fafd08523.jpg to ../data/staging\\bathroom-cat\\1ba1ced810eb4ddb8702284fafd08523.jpg\n",
      "Downloaded 23aec5b58d504b508075f0e0196ef7c2.jpg to ../data/staging\\bathroom-cat\\23aec5b58d504b508075f0e0196ef7c2.jpg\n",
      "Downloaded 312cc458110a46a1903d73af735255b9.jpg to ../data/staging\\bathroom-cat\\312cc458110a46a1903d73af735255b9.jpg\n",
      "Downloaded 3240016e8ef0419e991c8f2421f2a93e.jpg to ../data/staging\\bathroom-cat\\3240016e8ef0419e991c8f2421f2a93e.jpg\n",
      "Downloaded 4820e26afad94e6880106e579603d464.jpg to ../data/staging\\bathroom-cat\\4820e26afad94e6880106e579603d464.jpg\n",
      "Downloaded 5289b07827884c618c8368f3def2162a.jpg to ../data/staging\\bathroom-cat\\5289b07827884c618c8368f3def2162a.jpg\n",
      "Downloaded 5564733dbe1c415395ae9244bbb70c76.jpg to ../data/staging\\bathroom-cat\\5564733dbe1c415395ae9244bbb70c76.jpg\n",
      "Downloaded 5726808414b04ff6a96b435ca45cb342.jpg to ../data/staging\\bathroom-cat\\5726808414b04ff6a96b435ca45cb342.jpg\n",
      "Downloaded 5a4a0ad3a1ef4bc797289706e8e55eed.jpg to ../data/staging\\bathroom-cat\\5a4a0ad3a1ef4bc797289706e8e55eed.jpg\n",
      "Downloaded 5a8ccd14905c4bcf8bbfcef6a5d8d07d.jpg to ../data/staging\\bathroom-cat\\5a8ccd14905c4bcf8bbfcef6a5d8d07d.jpg\n",
      "Downloaded 6f5f01aee6f541bcb9fc8856c6fc6fbc.jpg to ../data/staging\\bathroom-cat\\6f5f01aee6f541bcb9fc8856c6fc6fbc.jpg\n",
      "Downloaded 72b30e26c2c6495295b59d579b2fc839.jpg to ../data/staging\\bathroom-cat\\72b30e26c2c6495295b59d579b2fc839.jpg\n",
      "Downloaded 7548b484e00b408da0e6dfbcfd38179f.jpg to ../data/staging\\bathroom-cat\\7548b484e00b408da0e6dfbcfd38179f.jpg\n",
      "Downloaded 7eb6266752d545e4a80ff1e9f229203d.jpg to ../data/staging\\bathroom-cat\\7eb6266752d545e4a80ff1e9f229203d.jpg\n",
      "Downloaded 7ffb4a22a46544a2816b9cdf29b54137.jpg to ../data/staging\\bathroom-cat\\7ffb4a22a46544a2816b9cdf29b54137.jpg\n",
      "Downloaded 82a464d33cc243d792d4d920f106084d.jpg to ../data/staging\\bathroom-cat\\82a464d33cc243d792d4d920f106084d.jpg\n",
      "Downloaded 852f5df00a3a4288bb6251d31907ccff.jpg to ../data/staging\\bathroom-cat\\852f5df00a3a4288bb6251d31907ccff.jpg\n",
      "Downloaded 861cf8a4aa28417d9e3ba0de9cc86ed2.jpg to ../data/staging\\bathroom-cat\\861cf8a4aa28417d9e3ba0de9cc86ed2.jpg\n",
      "Downloaded 88e3ed646b9d4ec5ace3d0945e18d3b3.jpg to ../data/staging\\bathroom-cat\\88e3ed646b9d4ec5ace3d0945e18d3b3.jpg\n",
      "Downloaded 896d614fba1745699b4883e1773e3716.jpg to ../data/staging\\bathroom-cat\\896d614fba1745699b4883e1773e3716.jpg\n",
      "Downloaded 8ac604bbdaf041d58e0c87f48ed436af.jpg to ../data/staging\\bathroom-cat\\8ac604bbdaf041d58e0c87f48ed436af.jpg\n",
      "Downloaded 8fa4da0309504689a81a84718311955e.jpg to ../data/staging\\bathroom-cat\\8fa4da0309504689a81a84718311955e.jpg\n",
      "Downloaded 94d3f97812a8448ab21670984dbb552a.jpg to ../data/staging\\bathroom-cat\\94d3f97812a8448ab21670984dbb552a.jpg\n",
      "Downloaded 950caa26a76d436fbeecba3cc0825d1a.jpg to ../data/staging\\bathroom-cat\\950caa26a76d436fbeecba3cc0825d1a.jpg\n",
      "Downloaded 9f379f0edcee412094ccd11e2222a752.jpg to ../data/staging\\bathroom-cat\\9f379f0edcee412094ccd11e2222a752.jpg\n",
      "Downloaded 9fa98716d02647938eb5e4d33e6ea466.jpg to ../data/staging\\bathroom-cat\\9fa98716d02647938eb5e4d33e6ea466.jpg\n",
      "Downloaded a2518925e82f4225821cd722b90d2396.jpg to ../data/staging\\bathroom-cat\\a2518925e82f4225821cd722b90d2396.jpg\n",
      "Downloaded a43cb8f03cdc4aa69a162dca091f0828.jpg to ../data/staging\\bathroom-cat\\a43cb8f03cdc4aa69a162dca091f0828.jpg\n",
      "Downloaded aa2d3caa46084ecda39d017aaba3968c.jpg to ../data/staging\\bathroom-cat\\aa2d3caa46084ecda39d017aaba3968c.jpg\n",
      "Downloaded ac01fcecb60d473d93b68a4460878735.jpg to ../data/staging\\bathroom-cat\\ac01fcecb60d473d93b68a4460878735.jpg\n",
      "Downloaded b1c1880b6fdd4bb784aedc4ad8be6182.jpg to ../data/staging\\bathroom-cat\\b1c1880b6fdd4bb784aedc4ad8be6182.jpg\n",
      "Downloaded cc315ba78c35458eb65ba03c2ba89609.jpg to ../data/staging\\bathroom-cat\\cc315ba78c35458eb65ba03c2ba89609.jpg\n",
      "Downloaded d1034205ed15403bad1158c5ce3558be.jpg to ../data/staging\\bathroom-cat\\d1034205ed15403bad1158c5ce3558be.jpg\n",
      "Downloaded dac45e6dd25742ebb53e5e2627394674.jpg to ../data/staging\\bathroom-cat\\dac45e6dd25742ebb53e5e2627394674.jpg\n",
      "Downloaded dbae05751033476699b54bae906bce35.jpg to ../data/staging\\bathroom-cat\\dbae05751033476699b54bae906bce35.jpg\n",
      "Downloaded f15aeb6cd4804c9787449ce5fc7839a9.jpg to ../data/staging\\bathroom-cat\\f15aeb6cd4804c9787449ce5fc7839a9.jpg\n",
      "Downloaded f195708b4c724ccab4765cb97aadb2a5.jpg to ../data/staging\\bathroom-cat\\f195708b4c724ccab4765cb97aadb2a5.jpg\n",
      "Downloaded f65b3b91654f455dbf67e0f2226bf3b1.jpg to ../data/staging\\bathroom-cat\\f65b3b91654f455dbf67e0f2226bf3b1.jpg\n",
      "Downloaded fd7acae1b7604fabaf60055b2b840508.jpg to ../data/staging\\bathroom-cat\\fd7acae1b7604fabaf60055b2b840508.jpg\n",
      "All blobs have been downloaded successfully.\n"
     ]
    }
   ],
   "source": [
    "from helpers.blob_storage_downloader import BlobStorageDownloader\n",
    "\n",
    "blob_storage_downloader = BlobStorageDownloader(connection_string=blob_storage_connection_string)\n",
    "\n",
    "for class_name in classes:\n",
    "    blobs = blob_storage_downloader.download_to_directory(class_name, class_output_dir=os.path.join(output_dir, class_name))\n",
    "\n",
    "print(\"All blobs have been downloaded successfully.\")"
   ]
  },
  {
   "cell_type": "markdown",
   "metadata": {},
   "source": [
    "### 🗑️ Clear Blob Storage"
   ]
  },
  {
   "cell_type": "code",
   "execution_count": 8,
   "metadata": {},
   "outputs": [
    {
     "name": "stdout",
     "output_type": "stream",
     "text": [
      "Deleting blobs from container 'control'...\n",
      "Deleted d61125bc95624daab87a9235cf29e1e9.jpg\n",
      "Deleted e8a0d7313594469a94520c137fac27d8.jpg\n",
      "Deleted fc73d40716144dd98d4c60a677fdebda.jpg\n",
      "Deleting blobs from container 'captain'...\n",
      "Deleted 11d9ee7ad03f476d96b0e29b0f888b51.jpg\n",
      "Deleted 121395684b7344be97307689e472ba6f.jpg\n",
      "Deleted 28cce36c59b1449d8143bca3353f04eb.jpg\n",
      "Deleted 2cac4f8f807444c48b714bdb31f72f19.jpg\n",
      "Deleted 5296beff87f6485a81151611e2d583c5.jpg\n",
      "Deleted 590615e887d846e698cd1559051bdaed.jpg\n",
      "Deleted 6420d379026842efbfac162aef6b011a.jpg\n",
      "Deleted 81046a68198f4cf8b524f443fa24015a.jpg\n",
      "Deleted 8de75c7c7aae41568a559be709c250f0.jpg\n",
      "Deleted 902fa5df92b94b0b96448ee3d95c9889.jpg\n",
      "Deleted 98ec4eebaaf94dfd958d01b5f57640f1.jpg\n",
      "Deleted 9a25e3b57b034931a93061193140b585.jpg\n",
      "Deleted aaf6e343f3264b0abb055e2227692fbc.jpg\n",
      "Deleted b5aae1270dee473cade4609879a98a9c.jpg\n",
      "Deleted b7f2ae36a4764019921d88c93614e9ae.jpg\n",
      "Deleted bcf6ddf135e04ce4901e52446d63dc9b.jpg\n",
      "Deleted bf7241c9808e435f9c57476cfc3c898f.jpg\n",
      "Deleted c6a20b8d3c774040808de31b9f70082e.jpg\n",
      "Deleted c917579be9f745d19ec28e146529301d.jpg\n",
      "Deleted c99d942aea934e4d968cdc551ffb97c7.jpg\n",
      "Deleted d049f8dd150044098d6d8381a0c0edf5.jpg\n",
      "Deleted d47937cb1cc34fedaa7fe4a48ac5868c.jpg\n",
      "Deleted d74cc83f99914ae7bb5fdc30c138fcb4.jpg\n",
      "Deleted ddaeb225f93640e68fcde3500dffd177.jpg\n",
      "Deleted e08f98cc146a4b4086d326dc0c437963.jpg\n",
      "Deleted f8a85c3ff6d74f83be3bd13d9f54de19.jpg\n",
      "Deleting blobs from container 'bathroom-cat'...\n",
      "Deleted 0053b825f97b465ca60729acee824cf7.jpg\n",
      "Deleted 022c0e16a718445da600762e4a434ec0.jpg\n",
      "Deleted 036137e537ac4b8f9ebf7e34f0c5e1f4.jpg\n",
      "Deleted 05cba331406a4fa299ae8276c905122e.jpg\n",
      "Deleted 1ba1ced810eb4ddb8702284fafd08523.jpg\n",
      "Deleted 23aec5b58d504b508075f0e0196ef7c2.jpg\n",
      "Deleted 312cc458110a46a1903d73af735255b9.jpg\n",
      "Deleted 3240016e8ef0419e991c8f2421f2a93e.jpg\n",
      "Deleted 4820e26afad94e6880106e579603d464.jpg\n",
      "Deleted 5289b07827884c618c8368f3def2162a.jpg\n",
      "Deleted 5564733dbe1c415395ae9244bbb70c76.jpg\n",
      "Deleted 5726808414b04ff6a96b435ca45cb342.jpg\n",
      "Deleted 5a4a0ad3a1ef4bc797289706e8e55eed.jpg\n",
      "Deleted 5a8ccd14905c4bcf8bbfcef6a5d8d07d.jpg\n",
      "Deleted 6f5f01aee6f541bcb9fc8856c6fc6fbc.jpg\n",
      "Deleted 72b30e26c2c6495295b59d579b2fc839.jpg\n",
      "Deleted 7548b484e00b408da0e6dfbcfd38179f.jpg\n",
      "Deleted 7eb6266752d545e4a80ff1e9f229203d.jpg\n",
      "Deleted 7ffb4a22a46544a2816b9cdf29b54137.jpg\n",
      "Deleted 82a464d33cc243d792d4d920f106084d.jpg\n",
      "Deleted 852f5df00a3a4288bb6251d31907ccff.jpg\n",
      "Deleted 861cf8a4aa28417d9e3ba0de9cc86ed2.jpg\n",
      "Deleted 88e3ed646b9d4ec5ace3d0945e18d3b3.jpg\n",
      "Deleted 896d614fba1745699b4883e1773e3716.jpg\n",
      "Deleted 8ac604bbdaf041d58e0c87f48ed436af.jpg\n",
      "Deleted 8fa4da0309504689a81a84718311955e.jpg\n",
      "Deleted 94d3f97812a8448ab21670984dbb552a.jpg\n",
      "Deleted 950caa26a76d436fbeecba3cc0825d1a.jpg\n",
      "Deleted 9f379f0edcee412094ccd11e2222a752.jpg\n",
      "Deleted 9fa98716d02647938eb5e4d33e6ea466.jpg\n",
      "Deleted a2518925e82f4225821cd722b90d2396.jpg\n",
      "Deleted a43cb8f03cdc4aa69a162dca091f0828.jpg\n",
      "Deleted aa2d3caa46084ecda39d017aaba3968c.jpg\n",
      "Deleted ac01fcecb60d473d93b68a4460878735.jpg\n",
      "Deleted b1c1880b6fdd4bb784aedc4ad8be6182.jpg\n",
      "Deleted cc315ba78c35458eb65ba03c2ba89609.jpg\n",
      "Deleted d1034205ed15403bad1158c5ce3558be.jpg\n",
      "Deleted dac45e6dd25742ebb53e5e2627394674.jpg\n",
      "Deleted dbae05751033476699b54bae906bce35.jpg\n",
      "Deleted f15aeb6cd4804c9787449ce5fc7839a9.jpg\n",
      "Deleted f195708b4c724ccab4765cb97aadb2a5.jpg\n",
      "Deleted f65b3b91654f455dbf67e0f2226bf3b1.jpg\n",
      "Deleted fd7acae1b7604fabaf60055b2b840508.jpg\n",
      "All blobs have been deleted from the storage account.\n"
     ]
    }
   ],
   "source": [
    "if clear_blob_storage:\n",
    "    for class_name in classes:\n",
    "        blob_storage_downloader.clear_all_blobs(class_name)\n",
    "    print(\"All blobs have been deleted from the storage account.\")"
   ]
  }
 ],
 "metadata": {
  "kernelspec": {
   "display_name": "Python 3",
   "language": "python",
   "name": "python3"
  },
  "language_info": {
   "codemirror_mode": {
    "name": "ipython",
    "version": 3
   },
   "file_extension": ".py",
   "mimetype": "text/x-python",
   "name": "python",
   "nbconvert_exporter": "python",
   "pygments_lexer": "ipython3",
   "version": "3.12.7"
  }
 },
 "nbformat": 4,
 "nbformat_minor": 2
}
